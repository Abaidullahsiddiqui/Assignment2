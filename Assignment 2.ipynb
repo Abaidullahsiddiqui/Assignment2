{
 "cells": [
  {
   "cell_type": "markdown",
   "id": "ae1272d2",
   "metadata": {},
   "source": [
    "# Clustring the data\n"
   ]
  },
  {
   "cell_type": "code",
   "execution_count": 161,
   "id": "157040b2",
   "metadata": {},
   "outputs": [
    {
     "name": "stdout",
     "output_type": "stream",
     "text": [
      "Enter the list: 15 15 16 19 19 20 20 21 22 28 35 40 41 42 43 44 60 61 65\n",
      "Enter the Centroid1 16\n",
      "Enter the Centroid2 22\n"
     ]
    }
   ],
   "source": [
    "Cluster = [int(x) for x in input('Enter the list: ').split()]\n",
    "centroid1= int(input('Enter the Centroid1 '))\n",
    "centroid2= int(input('Enter the Centroid2 '))"
   ]
  },
  {
   "cell_type": "code",
   "execution_count": 162,
   "id": "d28d73ed",
   "metadata": {},
   "outputs": [
    {
     "data": {
      "text/plain": [
       "list"
      ]
     },
     "execution_count": 162,
     "metadata": {},
     "output_type": "execute_result"
    }
   ],
   "source": [
    "type(Cluster)"
   ]
  },
  {
   "cell_type": "code",
   "execution_count": 163,
   "id": "0c5795d5",
   "metadata": {},
   "outputs": [
    {
     "data": {
      "text/plain": [
       "int"
      ]
     },
     "execution_count": 163,
     "metadata": {},
     "output_type": "execute_result"
    }
   ],
   "source": [
    "type(Cluster[0])"
   ]
  },
  {
   "cell_type": "code",
   "execution_count": 164,
   "id": "ff597aca",
   "metadata": {},
   "outputs": [
    {
     "data": {
      "text/plain": [
       "int"
      ]
     },
     "execution_count": 164,
     "metadata": {},
     "output_type": "execute_result"
    }
   ],
   "source": [
    "type(centroid1)"
   ]
  },
  {
   "cell_type": "code",
   "execution_count": 165,
   "id": "93eb3e73",
   "metadata": {},
   "outputs": [
    {
     "data": {
      "text/plain": [
       "(15, 35)"
      ]
     },
     "execution_count": 165,
     "metadata": {},
     "output_type": "execute_result"
    }
   ],
   "source": [
    "Cluster[0],Cluster[10]"
   ]
  },
  {
   "cell_type": "code",
   "execution_count": 166,
   "id": "b2abf372",
   "metadata": {},
   "outputs": [
    {
     "name": "stdout",
     "output_type": "stream",
     "text": [
      "16 22\n"
     ]
    }
   ],
   "source": [
    "print(centroid1,centroid2)"
   ]
  },
  {
   "cell_type": "code",
   "execution_count": 167,
   "id": "be730235",
   "metadata": {},
   "outputs": [
    {
     "name": "stdout",
     "output_type": "stream",
     "text": [
      "cetntroid1:  15.33\n",
      "cetntroid2:  36.25\n",
      "cetntroid1:  18.56\n",
      "cetntroid2:  45.9\n",
      "cetntroid1:  19.5\n",
      "cetntroid2:  47.89\n",
      "Now the centroids become constant\n"
     ]
    }
   ],
   "source": [
    "size = len(Cluster)\n",
    "x=0\n",
    "while (x!=1):\n",
    "    g1=g2=0\n",
    "    count1=count2=0\n",
    "    for i in range(size):\n",
    "        c1=Cluster[i]-centroid1\n",
    "        c2=Cluster[i]-centroid2\n",
    "        if c1<0:\n",
    "            c1=c1*-1\n",
    "        if c2<0:\n",
    "            c2=c2*-1\n",
    "        if c1<c2:\n",
    "            g1=g1+Cluster[i]\n",
    "            count1=count1+1\n",
    "        else:\n",
    "            g2=g2+Cluster[i]\n",
    "            count2=count2+1\n",
    "    g1=g1/count1\n",
    "    g2=g2/count2\n",
    "    g1=round(g1,2)\n",
    "    g2=round(g2,2)\n",
    "    if g1==centroid1 and g2==centroid2:\n",
    "        print(\"Now the centroids become constant\")\n",
    "        break\n",
    "    else:\n",
    "        centroid1=g1\n",
    "        print('cetntroid1: ',centroid1)\n",
    "        centroid2=g2\n",
    "        print('cetntroid2: ',centroid2)"
   ]
  },
  {
   "cell_type": "code",
   "execution_count": 126,
   "id": "b51e39bb",
   "metadata": {},
   "outputs": [
    {
     "name": "stdout",
     "output_type": "stream",
     "text": [
      "19.5\n"
     ]
    }
   ],
   "source": []
  },
  {
   "cell_type": "code",
   "execution_count": null,
   "id": "0f9a4179",
   "metadata": {},
   "outputs": [],
   "source": []
  }
 ],
 "metadata": {
  "kernelspec": {
   "display_name": "Python 3 (ipykernel)",
   "language": "python",
   "name": "python3"
  },
  "language_info": {
   "codemirror_mode": {
    "name": "ipython",
    "version": 3
   },
   "file_extension": ".py",
   "mimetype": "text/x-python",
   "name": "python",
   "nbconvert_exporter": "python",
   "pygments_lexer": "ipython3",
   "version": "3.9.7"
  }
 },
 "nbformat": 4,
 "nbformat_minor": 5
}
